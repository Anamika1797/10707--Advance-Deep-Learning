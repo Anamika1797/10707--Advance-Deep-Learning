{
 "cells": [
  {
   "cell_type": "code",
   "execution_count": 1,
   "id": "8284c26c",
   "metadata": {},
   "outputs": [],
   "source": [
    "import os\n",
    "import sys\n",
    "import time\n",
    "import math\n",
    "import random\n",
    "import pickle\n",
    "\n",
    "import numpy as np\n",
    "import matplotlib.pyplot as plt\n",
    "\n",
    "from dbn import DBN, fit_mnist_dbn\n",
    "from neural_net import WarmUpMLPClassifier\n",
    "from rbm import RBM, binary_data, shuffle_corpus"
   ]
  },
  {
   "cell_type": "code",
   "execution_count": 6,
   "id": "89d392a9",
   "metadata": {},
   "outputs": [],
   "source": [
    "from neural_net import WarmUpMLPClassifier"
   ]
  },
  {
   "cell_type": "code",
   "execution_count": 3,
   "id": "be3c1bfc",
   "metadata": {},
   "outputs": [],
   "source": [
    "from neural_net import WarmUpMLPClassifier as ww"
   ]
  },
  {
   "cell_type": "code",
   "execution_count": 4,
   "id": "373d547c",
   "metadata": {},
   "outputs": [],
   "source": [
    "def plot_images(images, path = None, cols=3, cmap='gray'):\n",
    "    rows = (len(images) + cols - 1) // cols\n",
    "    fig, ax = plt.subplots(rows, cols)\n",
    "    for i, image in enumerate(images):\n",
    "        ax[i//cols][i%cols].imshow(image, cmap=cmap)\n",
    "        ax[i//cols][i%cols].get_xaxis().set_ticks([])\n",
    "        ax[i//cols][i%cols].get_yaxis().set_ticks([])\n",
    "    for i in range(len(images), rows*cols):\n",
    "        ax[i//cols][i%cols].get_xaxis().set_ticks([])\n",
    "        ax[i//cols][i%cols].get_yaxis().set_ticks([])\n",
    "        ax[i//cols][i%cols].axis('off')\n",
    "    fig.set_size_inches(cols*10, rows*10)\n",
    "    if path is not None:\n",
    "        plt.savefig(path)\n",
    "    plt.show()"
   ]
  },
  {
   "cell_type": "code",
   "execution_count": 5,
   "id": "583659f4",
   "metadata": {},
   "outputs": [],
   "source": [
    "np.seterr(all='raise')\n",
    "train_data = np.genfromtxt('./data/digitstrain.txt', delimiter=\",\")\n",
    "train_X = train_data[:, :-1] \n",
    "train_Y = train_data[:, -1]\n",
    "train_X = binary_data(train_X)\n",
    "\n",
    "valid_data = np.genfromtxt('./data/digitsvalid.txt', delimiter=\",\")\n",
    "valid_X = valid_data[:, :-1]\n",
    "valid_X = binary_data(valid_X)\n",
    "valid_Y = valid_data[:, -1]\n",
    "\n",
    "test_data = np.genfromtxt('./data/digitstest.txt', delimiter=\",\")\n",
    "test_X = test_data[:, :-1]\n",
    "test_X = binary_data(test_X)\n",
    "test_Y = test_data[:, -1]\n"
   ]
  },
  {
   "cell_type": "code",
   "execution_count": 7,
   "id": "40da31eb",
   "metadata": {},
   "outputs": [
    {
     "data": {
      "text/plain": [
       "([9.09454190658732,\n",
       "  8.587284690860946,\n",
       "  8.173441621734476,\n",
       "  7.878051840205504,\n",
       "  7.630614845023017,\n",
       "  7.5144413754044965,\n",
       "  7.372641995991556,\n",
       "  7.2437270122749995,\n",
       "  7.0527244290164015,\n",
       "  6.994260878615653,\n",
       "  6.860902119044513,\n",
       "  6.813314998175257,\n",
       "  6.720293769130361,\n",
       "  6.642232870894693,\n",
       "  6.560099990855689,\n",
       "  6.52954892804633,\n",
       "  6.445748146959344,\n",
       "  6.369688616685171,\n",
       "  6.297666761756826,\n",
       "  6.228444546226879,\n",
       "  6.169369464110818,\n",
       "  6.165115864378109,\n",
       "  6.0944629358483455,\n",
       "  6.056629885691029,\n",
       "  6.0291558435222345,\n",
       "  5.955959945731165,\n",
       "  5.910566027434396,\n",
       "  5.849842436768892,\n",
       "  5.840285815225625,\n",
       "  5.813835166166065,\n",
       "  5.724671622304665,\n",
       "  5.721899548228042,\n",
       "  5.653285595315416,\n",
       "  5.684656040309723,\n",
       "  5.624148570645463,\n",
       "  5.562021496335692,\n",
       "  5.5718211850717685,\n",
       "  5.540469220944105,\n",
       "  5.484692032111358,\n",
       "  5.447810412306016],\n",
       " [9.188788842148695,\n",
       "  8.761169554150573,\n",
       "  8.343352259863662,\n",
       "  8.101603953753102,\n",
       "  7.878911675808285,\n",
       "  7.829232422895915,\n",
       "  7.7261903889535954,\n",
       "  7.660391134190647,\n",
       "  7.44553392103896,\n",
       "  7.434843250618203,\n",
       "  7.33459486047716,\n",
       "  7.335903916121191,\n",
       "  7.276111046001091,\n",
       "  7.201688800866511,\n",
       "  7.159648690806534,\n",
       "  7.143529565734897,\n",
       "  7.077934847531941,\n",
       "  7.084190322088254,\n",
       "  7.020632354346786,\n",
       "  6.9837050668223295,\n",
       "  6.922805500674176,\n",
       "  6.9297726798631265,\n",
       "  6.893705039368185,\n",
       "  6.8639444362379125,\n",
       "  6.859737044472997,\n",
       "  6.809724854995913,\n",
       "  6.783257999129109,\n",
       "  6.765265860977619,\n",
       "  6.784501505146967,\n",
       "  6.742823314923127,\n",
       "  6.68544420054611,\n",
       "  6.673257262352221,\n",
       "  6.679542882576255,\n",
       "  6.730358375899938,\n",
       "  6.636071829462309,\n",
       "  6.614093450794192,\n",
       "  6.623072770535272,\n",
       "  6.632700673564034,\n",
       "  6.618236495392648,\n",
       "  6.572482148494677])"
      ]
     },
     "execution_count": 7,
     "metadata": {},
     "output_type": "execute_result"
    }
   ],
   "source": [
    "rbm = RBM(n_visible=784, n_hidden=300,  k=5, lr=0.01, max_epochs=40)\n",
    "rbm.fit(X=train_X, valid_X=valid_X)"
   ]
  },
  {
   "cell_type": "code",
   "execution_count": null,
   "id": "0365c434",
   "metadata": {},
   "outputs": [],
   "source": [
    "rbm.hbias.shape"
   ]
  },
  {
   "cell_type": "code",
   "execution_count": null,
   "id": "2d655972",
   "metadata": {},
   "outputs": [],
   "source": [
    "Ws"
   ]
  },
  {
   "cell_type": "code",
   "execution_count": null,
   "id": "8ec16cd1",
   "metadata": {},
   "outputs": [],
   "source": [
    "rbm_clf.coefs_[0].shape"
   ]
  },
  {
   "cell_type": "code",
   "execution_count": null,
   "id": "05567f6b",
   "metadata": {},
   "outputs": [],
   "source": [
    "cc1=rbm_clf.coefs_"
   ]
  },
  {
   "cell_type": "code",
   "execution_count": null,
   "id": "74accb9a",
   "metadata": {},
   "outputs": [],
   "source": [
    "if Ws is not None:\n",
    "            #self.coefs_[0]=self.Ws\n",
    "    for i in range(len(cc1[0])):\n",
    "        cc1[0][i]=Ws[0].T[i]\n",
    "        "
   ]
  },
  {
   "cell_type": "code",
   "execution_count": null,
   "id": "4eb11225",
   "metadata": {},
   "outputs": [],
   "source": [
    "cc"
   ]
  },
  {
   "cell_type": "code",
   "execution_count": null,
   "id": "bd395cd0",
   "metadata": {},
   "outputs": [],
   "source": [
    "cc1"
   ]
  },
  {
   "cell_type": "code",
   "execution_count": null,
   "id": "076222f3",
   "metadata": {},
   "outputs": [],
   "source": [
    "Ws=[rbm.W,]"
   ]
  },
  {
   "cell_type": "code",
   "execution_count": null,
   "id": "8f54d5dc",
   "metadata": {},
   "outputs": [],
   "source": [
    "\n",
    "            "
   ]
  },
  {
   "cell_type": "code",
   "execution_count": 8,
   "id": "ffed94ff",
   "metadata": {},
   "outputs": [
    {
     "name": "stdout",
     "output_type": "stream",
     "text": [
      "Complete\n",
      "Complete happy\n",
      "Iteration 1, loss = 3.01955931\n",
      "Iteration 2, loss = 2.39621766\n"
     ]
    },
    {
     "name": "stderr",
     "output_type": "stream",
     "text": [
      "C:\\Anamika\\Python\\lib\\site-packages\\sklearn\\neural_network\\_multilayer_perceptron.py:614: ConvergenceWarning: Stochastic Optimizer: Maximum iterations (2) reached and the optimization hasn't converged yet.\n",
      "  warnings.warn(\n"
     ]
    },
    {
     "data": {
      "image/png": "[encoded data removed]",
      "text/plain": [
       "<Figure size 432x288 with 1 Axes>"
      ]
     },
     "metadata": {
      "needs_background": "light"
     },
     "output_type": "display_data"
    }
   ],
   "source": [
    "rbm_clf = WarmUpMLPClassifier(lr=0.01, max_epochs=2, \n",
    "                               hidden_layer_sizes=(300,),\n",
    "                               Ws=[rbm.W,], hbiases=[rbm.hbias,])\n",
    "rbm_clf.fit(train_X, train_Y)\n",
    "\n",
    "plt.plot(rbm_clf.loss_curve_)\n",
    "plt.show()"
   ]
  },
  {
   "cell_type": "code",
   "execution_count": null,
   "id": "134821a8",
   "metadata": {},
   "outputs": [],
   "source": []
  }
 ],
 "metadata": {
  "kernelspec": {
   "display_name": "Python 3",
   "language": "python",
   "name": "python3"
  },
  "language_info": {
   "codemirror_mode": {
    "name": "ipython",
    "version": 3
   },
   "file_extension": ".py",
   "mimetype": "text/x-python",
   "name": "python",
   "nbconvert_exporter": "python",
   "pygments_lexer": "ipython3",
   "version": "3.8.8"
  }
 },
 "nbformat": 4,
 "nbformat_minor": 5
}
